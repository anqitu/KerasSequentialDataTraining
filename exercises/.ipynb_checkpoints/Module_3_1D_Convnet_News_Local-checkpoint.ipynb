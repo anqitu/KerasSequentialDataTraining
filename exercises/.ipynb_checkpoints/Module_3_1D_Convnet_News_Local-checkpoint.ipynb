{
 "cells": [
  {
   "cell_type": "code",
   "execution_count": 1,
   "metadata": {
    "colab": {},
    "colab_type": "code",
    "id": "y_Zd5vnQt7XB"
   },
   "outputs": [],
   "source": [
    "import warnings\n",
    "warnings.filterwarnings(\"ignore\")"
   ]
  },
  {
   "cell_type": "markdown",
   "metadata": {},
   "source": [
    "### Step1: Prepare Data"
   ]
  },
  {
   "cell_type": "code",
   "execution_count": 2,
   "metadata": {},
   "outputs": [],
   "source": [
    "data_path = 'data'"
   ]
  },
  {
   "cell_type": "code",
   "execution_count": 3,
   "metadata": {},
   "outputs": [
    {
     "name": "stdout",
     "output_type": "stream",
     "text": [
      "data/20_newsgroup/alt.atheism\n",
      "data/20_newsgroup/comp.graphics\n",
      "data/20_newsgroup/comp.os.ms-windows.misc\n",
      "data/20_newsgroup/comp.sys.ibm.pc.hardware\n",
      "data/20_newsgroup/comp.sys.mac.hardware\n",
      "data/20_newsgroup/comp.windows.x\n",
      "data/20_newsgroup/misc.forsale\n",
      "data/20_newsgroup/rec.autos\n",
      "data/20_newsgroup/rec.motorcycles\n",
      "data/20_newsgroup/rec.sport.baseball\n",
      "data/20_newsgroup/rec.sport.hockey\n",
      "data/20_newsgroup/sci.crypt\n",
      "data/20_newsgroup/sci.electronics\n",
      "data/20_newsgroup/sci.med\n",
      "data/20_newsgroup/sci.space\n",
      "data/20_newsgroup/soc.religion.christian\n",
      "data/20_newsgroup/talk.politics.guns\n",
      "data/20_newsgroup/talk.politics.mideast\n",
      "data/20_newsgroup/talk.politics.misc\n",
      "data/20_newsgroup/talk.religion.misc\n"
     ]
    }
   ],
   "source": [
    "# Get raw data\n",
    "import os\n",
    "import sys\n",
    "data_dir = os.path.join(data_path, '20_newsgroup')\n",
    "labels = [] # list of label ids\n",
    "labels_index = {} # dictionary mapping label name to numeric id\n",
    "texts = [] # list of text samples\n",
    "for label_type in sorted(os.listdir(data_dir)):\n",
    "    dir_name = os.path.join(data_dir, label_type)\n",
    "    if os.path.isdir(dir_name):\n",
    "        print(dir_name)\n",
    "        label_id = len(labels_index)\n",
    "        labels_index[label_type] = label_id\n",
    "    \n",
    "        for fname in os.listdir(dir_name):\n",
    "            if fname.isdigit():\n",
    "                fpath = os.path.join(dir_name, fname)\n",
    "                if sys.version_info < (3,):\n",
    "                    f = open(fpath)\n",
    "                else:\n",
    "                    f = open(fpath, encoding='latin-1')\n",
    "                t = f.read()\n",
    "                f.close()\n",
    "                \n",
    "                i = t.find('\\n\\n')  # skip header\n",
    "                if i > 0:\n",
    "                    t = t[i:]\n",
    "                \n",
    "                texts.append(t)\n",
    "                labels.append(label_id)"
   ]
  },
  {
   "cell_type": "code",
   "execution_count": 4,
   "metadata": {},
   "outputs": [],
   "source": [
    "# sys.version_info"
   ]
  },
  {
   "cell_type": "code",
   "execution_count": 5,
   "metadata": {},
   "outputs": [
    {
     "data": {
      "text/plain": [
       "19997"
      ]
     },
     "execution_count": 5,
     "metadata": {},
     "output_type": "execute_result"
    }
   ],
   "source": [
    "len(labels)"
   ]
  },
  {
   "cell_type": "code",
   "execution_count": 6,
   "metadata": {},
   "outputs": [
    {
     "data": {
      "text/plain": [
       "{'alt.atheism': 0,\n",
       " 'comp.graphics': 1,\n",
       " 'comp.os.ms-windows.misc': 2,\n",
       " 'comp.sys.ibm.pc.hardware': 3,\n",
       " 'comp.sys.mac.hardware': 4,\n",
       " 'comp.windows.x': 5,\n",
       " 'misc.forsale': 6,\n",
       " 'rec.autos': 7,\n",
       " 'rec.motorcycles': 8,\n",
       " 'rec.sport.baseball': 9,\n",
       " 'rec.sport.hockey': 10,\n",
       " 'sci.crypt': 11,\n",
       " 'sci.electronics': 12,\n",
       " 'sci.med': 13,\n",
       " 'sci.space': 14,\n",
       " 'soc.religion.christian': 15,\n",
       " 'talk.politics.guns': 16,\n",
       " 'talk.politics.mideast': 17,\n",
       " 'talk.politics.misc': 18,\n",
       " 'talk.religion.misc': 19}"
      ]
     },
     "execution_count": 6,
     "metadata": {},
     "output_type": "execute_result"
    }
   ],
   "source": [
    "labels_index"
   ]
  },
  {
   "cell_type": "code",
   "execution_count": 7,
   "metadata": {},
   "outputs": [
    {
     "name": "stderr",
     "output_type": "stream",
     "text": [
      "Using TensorFlow backend.\n"
     ]
    }
   ],
   "source": [
    "# Tokenizing Raw data\n",
    "\n",
    "from keras.preprocessing.text import Tokenizer\n",
    "from keras.preprocessing.sequence import pad_sequences\n",
    "import numpy as np\n",
    "\n",
    "MAX_LEN = 1000  # We will cut reviews after 1000 words\n",
    "MAX_WORDS = 20000  # We will only consider the top 20,000 words in the dataset\n",
    "\n",
    "tokenizer = Tokenizer(num_words=MAX_LEN) #the maximum number of words to keep\n",
    "tokenizer.fit_on_texts(texts)\n",
    "sequences = tokenizer.texts_to_sequences(texts)"
   ]
  },
  {
   "cell_type": "code",
   "execution_count": 8,
   "metadata": {},
   "outputs": [
    {
     "name": "stdout",
     "output_type": "stream",
     "text": [
      "Found 174074 unique tokens.\n"
     ]
    }
   ],
   "source": [
    "word_index = tokenizer.word_index\n",
    "print('Found %s unique tokens.' % len(word_index))"
   ]
  },
  {
   "cell_type": "code",
   "execution_count": 10,
   "metadata": {},
   "outputs": [],
   "source": [
    "# Pad Raw Data\n",
    "data = pad_sequences(sequences, maxlen=MAX_LEN)"
   ]
  },
  {
   "cell_type": "code",
   "execution_count": 11,
   "metadata": {},
   "outputs": [],
   "source": [
    "# labels"
   ]
  },
  {
   "cell_type": "code",
   "execution_count": 12,
   "metadata": {},
   "outputs": [
    {
     "name": "stdout",
     "output_type": "stream",
     "text": [
      "Shape of data tensor: (19997, 1000)\n",
      "Shape of label tensor: (19997, 20)\n"
     ]
    }
   ],
   "source": [
    "# One hot encode labels\n",
    "from keras.utils import to_categorical\n",
    "labels = to_categorical(np.asarray(labels))\n",
    "print('Shape of data tensor:', data.shape)\n",
    "print('Shape of label tensor:', labels.shape)"
   ]
  },
  {
   "cell_type": "code",
   "execution_count": 13,
   "metadata": {},
   "outputs": [],
   "source": [
    "# labels"
   ]
  },
  {
   "cell_type": "code",
   "execution_count": 14,
   "metadata": {},
   "outputs": [],
   "source": [
    "x = data\n",
    "y = labels"
   ]
  },
  {
   "cell_type": "code",
   "execution_count": 15,
   "metadata": {},
   "outputs": [],
   "source": [
    "from sklearn.model_selection import train_test_split\n",
    "x_train, x_test, y_train, y_test = train_test_split(x, y, test_size = 0.3)"
   ]
  },
  {
   "cell_type": "code",
   "execution_count": 16,
   "metadata": {},
   "outputs": [
    {
     "data": {
      "text/plain": [
       "(13997, 1000)"
      ]
     },
     "execution_count": 16,
     "metadata": {},
     "output_type": "execute_result"
    }
   ],
   "source": [
    "x_train.shape"
   ]
  },
  {
   "cell_type": "code",
   "execution_count": 17,
   "metadata": {},
   "outputs": [
    {
     "data": {
      "text/plain": [
       "(6000, 1000)"
      ]
     },
     "execution_count": 17,
     "metadata": {},
     "output_type": "execute_result"
    }
   ],
   "source": [
    "x_test.shape"
   ]
  },
  {
   "cell_type": "markdown",
   "metadata": {
    "colab_type": "text",
    "id": "vNN2DfZCNW85"
   },
   "source": [
    "### Step 2: Download the GloVe word embeddings and Create Word Embedding Matrix\n",
    "\n",
    "Head to `https://nlp.stanford.edu/projects/glove/` (where you can learn more about the GloVe algorithm), and download the pre-computed \n",
    "embeddings from 2014 English Wikipedia. It's a 822MB zip file named `glove.6B.zip`, containing 100-dimensional embedding vectors for \n",
    "400,000 words (or non-word tokens). Un-zip it."
   ]
  },
  {
   "cell_type": "code",
   "execution_count": 18,
   "metadata": {
    "colab": {
     "base_uri": "https://localhost:8080/",
     "height": 34
    },
    "colab_type": "code",
    "executionInfo": {
     "elapsed": 9459,
     "status": "ok",
     "timestamp": 1569130366511,
     "user": {
      "displayName": "Anqi Tu",
      "photoUrl": "",
      "userId": "10241159283576056135"
     },
     "user_tz": -480
    },
    "id": "-8VIw2o7NW85",
    "outputId": "7b2a96c0-8b68-48b9-f1a1-46c0357f7562"
   },
   "outputs": [
    {
     "name": "stdout",
     "output_type": "stream",
     "text": [
      "Found 400000 word vectors.\n"
     ]
    }
   ],
   "source": [
    "# Read embeddings\n",
    "glove_dir = os.path.join(data_path, 'glove.6B')\n",
    "\n",
    "embeddings_index = {}\n",
    "f = open(os.path.join(glove_dir, 'glove.6B.100d.txt'), 'r', encoding='utf-8' )\n",
    "for line in f:\n",
    "    values = line.split()\n",
    "    word = values[0]\n",
    "    coefs = np.asarray(values[1:], dtype='float32')\n",
    "    embeddings_index[word] = coefs\n",
    "f.close()\n",
    "\n",
    "print('Found %s word vectors.' % len(embeddings_index))"
   ]
  },
  {
   "cell_type": "code",
   "execution_count": 19,
   "metadata": {},
   "outputs": [],
   "source": [
    "# embeddings_index['excerpt']"
   ]
  },
  {
   "cell_type": "code",
   "execution_count": 21,
   "metadata": {
    "colab": {},
    "colab_type": "code",
    "id": "gjSmioMhNW88"
   },
   "outputs": [],
   "source": [
    "# Create Word Embedding Matrix\n",
    "EMBEDDING_DIM = 100\n",
    "embedding_matrix = np.zeros((MAX_WORDS, EMBEDDING_DIM))\n",
    "for word, i in word_index.items():\n",
    "    embedding_vector = embeddings_index.get(word)\n",
    "    if i < MAX_WORDS:\n",
    "        if embedding_vector is not None:\n",
    "            # Words not found in embedding index will be all-zeros.\n",
    "            embedding_matrix[i] = embedding_vector"
   ]
  },
  {
   "cell_type": "code",
   "execution_count": 22,
   "metadata": {},
   "outputs": [
    {
     "data": {
      "text/plain": [
       "(20000, 100)"
      ]
     },
     "execution_count": 22,
     "metadata": {},
     "output_type": "execute_result"
    }
   ],
   "source": [
    "embedding_matrix.shape"
   ]
  },
  {
   "cell_type": "code",
   "execution_count": 25,
   "metadata": {
    "colab": {},
    "colab_type": "code",
    "id": "toEokz-PNW9M"
   },
   "outputs": [],
   "source": [
    "from keras.models import Sequential\n",
    "from keras.layers import Embedding, Conv1D, MaxPooling1D, Flatten, Dense\n",
    "\n",
    "model = Sequential()\n",
    "model.add(Embedding(MAX_WORDS, EMBEDDING_DIM, input_length=MAX_LEN, weights=[embedding_matrix], trainable=False))\n",
    "model.add(Conv1D(128, 5, activation='relu'))\n",
    "model.add(MaxPooling1D(5))\n",
    "model.add(Conv1D(128, 5, activation='relu'))\n",
    "model.add(MaxPooling1D(5))\n",
    "model.add(Conv1D(128, 5, activation='relu'))\n",
    "model.add(MaxPooling1D(35))\n",
    "model.add(Flatten())\n",
    "model.add(Dense(128, activation='relu'))\n",
    "model.add(Dense(20, activation='softmax'))"
   ]
  },
  {
   "cell_type": "code",
   "execution_count": 26,
   "metadata": {
    "colab": {},
    "colab_type": "code",
    "id": "_b6ppsVUoC4k"
   },
   "outputs": [
    {
     "name": "stdout",
     "output_type": "stream",
     "text": [
      "_________________________________________________________________\n",
      "Layer (type)                 Output Shape              Param #   \n",
      "=================================================================\n",
      "embedding_1 (Embedding)      (None, 1000, 100)         2000000   \n",
      "_________________________________________________________________\n",
      "conv1d_1 (Conv1D)            (None, 996, 128)          64128     \n",
      "_________________________________________________________________\n",
      "max_pooling1d_1 (MaxPooling1 (None, 199, 128)          0         \n",
      "_________________________________________________________________\n",
      "conv1d_2 (Conv1D)            (None, 195, 128)          82048     \n",
      "_________________________________________________________________\n",
      "max_pooling1d_2 (MaxPooling1 (None, 39, 128)           0         \n",
      "_________________________________________________________________\n",
      "conv1d_3 (Conv1D)            (None, 35, 128)           82048     \n",
      "_________________________________________________________________\n",
      "max_pooling1d_3 (MaxPooling1 (None, 1, 128)            0         \n",
      "_________________________________________________________________\n",
      "flatten_1 (Flatten)          (None, 128)               0         \n",
      "_________________________________________________________________\n",
      "dense_1 (Dense)              (None, 128)               16512     \n",
      "_________________________________________________________________\n",
      "dense_2 (Dense)              (None, 20)                2580      \n",
      "=================================================================\n",
      "Total params: 2,247,316\n",
      "Trainable params: 247,316\n",
      "Non-trainable params: 2,000,000\n",
      "_________________________________________________________________\n"
     ]
    }
   ],
   "source": [
    "model.summary()"
   ]
  },
  {
   "cell_type": "code",
   "execution_count": 27,
   "metadata": {
    "colab": {},
    "colab_type": "code",
    "id": "Ptzc_wNln-hE"
   },
   "outputs": [
    {
     "name": "stdout",
     "output_type": "stream",
     "text": [
      "Train on 11197 samples, validate on 2800 samples\n",
      "Epoch 1/10\n",
      "11197/11197 [==============================] - 87s 8ms/step - loss: 2.4717 - acc: 0.1944 - val_loss: 2.0647 - val_acc: 0.3043\n",
      "Epoch 2/10\n",
      "11197/11197 [==============================] - 133s 12ms/step - loss: 1.7820 - acc: 0.3827 - val_loss: 1.7609 - val_acc: 0.4014\n",
      "Epoch 3/10\n",
      "11197/11197 [==============================] - 129s 12ms/step - loss: 1.4387 - acc: 0.5086 - val_loss: 1.5109 - val_acc: 0.4950\n",
      "Epoch 4/10\n",
      "11197/11197 [==============================] - 146s 13ms/step - loss: 1.1935 - acc: 0.5955 - val_loss: 1.5980 - val_acc: 0.4886\n",
      "Epoch 5/10\n",
      "11197/11197 [==============================] - 143s 13ms/step - loss: 0.9876 - acc: 0.6668 - val_loss: 1.4792 - val_acc: 0.5271\n",
      "Epoch 6/10\n",
      "11197/11197 [==============================] - 154s 14ms/step - loss: 0.8125 - acc: 0.7255 - val_loss: 1.4679 - val_acc: 0.5657\n",
      "Epoch 7/10\n",
      "11197/11197 [==============================] - 158s 14ms/step - loss: 0.6625 - acc: 0.7741 - val_loss: 1.5510 - val_acc: 0.5743\n",
      "Epoch 8/10\n",
      "11197/11197 [==============================] - 142s 13ms/step - loss: 0.5268 - acc: 0.8189 - val_loss: 1.7125 - val_acc: 0.5604\n",
      "Epoch 9/10\n",
      "11197/11197 [==============================] - 122s 11ms/step - loss: 0.4258 - acc: 0.8578 - val_loss: 2.0380 - val_acc: 0.5621\n",
      "Epoch 10/10\n",
      "11197/11197 [==============================] - 125s 11ms/step - loss: 0.3586 - acc: 0.8826 - val_loss: 1.9288 - val_acc: 0.5775\n"
     ]
    }
   ],
   "source": [
    "model.compile(optimizer='rmsprop', loss='categorical_crossentropy', metrics=['acc'])\n",
    "history = model.fit(x_train, y_train, epochs=10, batch_size=32, validation_split=0.2)"
   ]
  },
  {
   "cell_type": "code",
   "execution_count": 28,
   "metadata": {
    "colab": {},
    "colab_type": "code",
    "id": "RMmvLDpNNW9O"
   },
   "outputs": [],
   "source": [
    "%matplotlib inline\n",
    "import matplotlib.pyplot as plt\n",
    "\n",
    "acc = history.history['acc']\n",
    "val_acc = history.history['val_acc']\n",
    "loss = history.history['loss']\n",
    "val_loss = history.history['val_loss']"
   ]
  },
  {
   "cell_type": "code",
   "execution_count": 29,
   "metadata": {
    "colab": {},
    "colab_type": "code",
    "id": "UkIaz5CLoIZw"
   },
   "outputs": [],
   "source": [
    "epochs = range(1,len(acc)+1)"
   ]
  },
  {
   "cell_type": "code",
   "execution_count": 30,
   "metadata": {
    "colab": {},
    "colab_type": "code",
    "id": "c8_zZ9UOoJfi"
   },
   "outputs": [
    {
     "data": {
      "image/png": "[encoded data removed]",
      "text/plain": [
       "<Figure size 432x288 with 1 Axes>"
      ]
     },
     "metadata": {
      "needs_background": "light"
     },
     "output_type": "display_data"
    },
    {
     "data": {
      "image/png": "[encoded data removed]",
      "text/plain": [
       "<Figure size 432x288 with 1 Axes>"
      ]
     },
     "metadata": {
      "needs_background": "light"
     },
     "output_type": "display_data"
    }
   ],
   "source": [
    "plt.plot(epochs, acc,'r',label='Training Accuracy')\n",
    "plt.plot(epochs, val_acc,'b',label='Validation Accuracy')\n",
    "plt.legend()\n",
    "\n",
    "plt.figure()\n",
    "\n",
    "plt.plot(epochs, loss,'r',label='Training Loss')\n",
    "plt.plot(epochs, val_loss,'b',label='Validation Loss')\n",
    "plt.legend()\n",
    "\n",
    "plt.show()"
   ]
  },
  {
   "cell_type": "code",
   "execution_count": 32,
   "metadata": {},
   "outputs": [],
   "source": [
    "model.save_weights('news_1D.h5')"
   ]
  },
  {
   "cell_type": "code",
   "execution_count": null,
   "metadata": {},
   "outputs": [],
   "source": []
  }
 ],
 "metadata": {
  "colab": {
   "collapsed_sections": [],
   "name": "Module_1_Word_Embedding.ipynb",
   "provenance": []
  },
  "kernelspec": {
   "display_name": "Python 3.5",
   "language": "python",
   "name": "python3.5"
  },
  "language_info": {
   "codemirror_mode": {
    "name": "ipython",
    "version": 3
   },
   "file_extension": ".py",
   "mimetype": "text/x-python",
   "name": "python",
   "nbconvert_exporter": "python",
   "pygments_lexer": "ipython3",
   "version": "3.5.2"
  }
 },
 "nbformat": 4,
 "nbformat_minor": 1
}
