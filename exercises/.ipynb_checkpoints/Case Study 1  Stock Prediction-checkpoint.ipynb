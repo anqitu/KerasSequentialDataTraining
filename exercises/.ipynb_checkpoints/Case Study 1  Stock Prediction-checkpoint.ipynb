{
 "cells": [
  {
   "cell_type": "markdown",
   "metadata": {},
   "source": [
    "## Tesla Stock Analysis"
   ]
  },
  {
   "cell_type": "code",
   "execution_count": 1,
   "metadata": {},
   "outputs": [
    {
     "name": "stderr",
     "output_type": "stream",
     "text": [
      "Using TensorFlow backend.\n",
      "/Users/alfred/Library/Python/3.6/lib/python/site-packages/sklearn/cross_validation.py:41: DeprecationWarning: This module was deprecated in version 0.18 in favor of the model_selection module into which all the refactored classes and functions are moved. Also note that the interface of the new CV iterators are different from that of this module. This module will be removed in 0.20.\n",
      "  \"This module will be removed in 0.20.\", DeprecationWarning)\n"
     ]
    }
   ],
   "source": [
    "import numpy as np\n",
    "import matplotlib.pyplot as plt\n",
    "import pandas as pd\n",
    "import math\n",
    "import time\n",
    "from keras.models import Sequential\n",
    "from keras.layers.core import Dense, Activation, Dropout\n",
    "from keras.layers import Dense\n",
    "from keras.layers import LSTM\n",
    "from sklearn import cross_validation\n",
    "from sklearn.metrics import mean_squared_error\n",
    "from sklearn.preprocessing import MinMaxScaler\n",
    "\n",
    "%matplotlib inline"
   ]
  },
  {
   "cell_type": "code",
   "execution_count": 2,
   "metadata": {},
   "outputs": [],
   "source": [
    "# read csv file\n",
    "dataframe = pd.read_csv('TSLA.csv')"
   ]
  },
  {
   "cell_type": "code",
   "execution_count": 3,
   "metadata": {},
   "outputs": [
    {
     "data": {
      "text/html": [
       "<div>\n",
       "<style scoped>\n",
       "    .dataframe tbody tr th:only-of-type {\n",
       "        vertical-align: middle;\n",
       "    }\n",
       "\n",
       "    .dataframe tbody tr th {\n",
       "        vertical-align: top;\n",
       "    }\n",
       "\n",
       "    .dataframe thead th {\n",
       "        text-align: right;\n",
       "    }\n",
       "</style>\n",
       "<table border=\"1\" class=\"dataframe\">\n",
       "  <thead>\n",
       "    <tr style=\"text-align: right;\">\n",
       "      <th></th>\n",
       "      <th>Time</th>\n",
       "      <th>First</th>\n",
       "      <th>Last</th>\n",
       "    </tr>\n",
       "  </thead>\n",
       "  <tbody>\n",
       "    <tr>\n",
       "      <th>0</th>\n",
       "      <td>08/02/2010 09:00:00.000</td>\n",
       "      <td>20.40</td>\n",
       "      <td>20.74</td>\n",
       "    </tr>\n",
       "    <tr>\n",
       "      <th>1</th>\n",
       "      <td>08/02/2010 10:00:00.000</td>\n",
       "      <td>20.74</td>\n",
       "      <td>20.56</td>\n",
       "    </tr>\n",
       "    <tr>\n",
       "      <th>2</th>\n",
       "      <td>08/02/2010 11:00:00.000</td>\n",
       "      <td>20.59</td>\n",
       "      <td>20.65</td>\n",
       "    </tr>\n",
       "    <tr>\n",
       "      <th>3</th>\n",
       "      <td>08/02/2010 12:00:00.000</td>\n",
       "      <td>20.63</td>\n",
       "      <td>20.67</td>\n",
       "    </tr>\n",
       "    <tr>\n",
       "      <th>4</th>\n",
       "      <td>08/02/2010 13:00:00.000</td>\n",
       "      <td>20.68</td>\n",
       "      <td>20.68</td>\n",
       "    </tr>\n",
       "  </tbody>\n",
       "</table>\n",
       "</div>"
      ],
      "text/plain": [
       "                      Time  First   Last\n",
       "0  08/02/2010 09:00:00.000  20.40  20.74\n",
       "1  08/02/2010 10:00:00.000  20.74  20.56\n",
       "2  08/02/2010 11:00:00.000  20.59  20.65\n",
       "3  08/02/2010 12:00:00.000  20.63  20.67\n",
       "4  08/02/2010 13:00:00.000  20.68  20.68"
      ]
     },
     "execution_count": 3,
     "metadata": {},
     "output_type": "execute_result"
    }
   ],
   "source": [
    "dataframe.head()"
   ]
  },
  {
   "cell_type": "markdown",
   "metadata": {},
   "source": [
    "### Convert Time into default pandas date time format"
   ]
  },
  {
   "cell_type": "code",
   "execution_count": 4,
   "metadata": {},
   "outputs": [],
   "source": [
    "dataframe['Time']=pd.to_datetime(dataframe['Time'],infer_datetime_format=True)"
   ]
  },
  {
   "cell_type": "code",
   "execution_count": 5,
   "metadata": {},
   "outputs": [
    {
     "data": {
      "text/html": [
       "<div>\n",
       "<style scoped>\n",
       "    .dataframe tbody tr th:only-of-type {\n",
       "        vertical-align: middle;\n",
       "    }\n",
       "\n",
       "    .dataframe tbody tr th {\n",
       "        vertical-align: top;\n",
       "    }\n",
       "\n",
       "    .dataframe thead th {\n",
       "        text-align: right;\n",
       "    }\n",
       "</style>\n",
       "<table border=\"1\" class=\"dataframe\">\n",
       "  <thead>\n",
       "    <tr style=\"text-align: right;\">\n",
       "      <th></th>\n",
       "      <th>Time</th>\n",
       "      <th>First</th>\n",
       "      <th>Last</th>\n",
       "    </tr>\n",
       "  </thead>\n",
       "  <tbody>\n",
       "    <tr>\n",
       "      <th>0</th>\n",
       "      <td>2010-08-02 09:00:00</td>\n",
       "      <td>20.40</td>\n",
       "      <td>20.74</td>\n",
       "    </tr>\n",
       "    <tr>\n",
       "      <th>1</th>\n",
       "      <td>2010-08-02 10:00:00</td>\n",
       "      <td>20.74</td>\n",
       "      <td>20.56</td>\n",
       "    </tr>\n",
       "    <tr>\n",
       "      <th>2</th>\n",
       "      <td>2010-08-02 11:00:00</td>\n",
       "      <td>20.59</td>\n",
       "      <td>20.65</td>\n",
       "    </tr>\n",
       "    <tr>\n",
       "      <th>3</th>\n",
       "      <td>2010-08-02 12:00:00</td>\n",
       "      <td>20.63</td>\n",
       "      <td>20.67</td>\n",
       "    </tr>\n",
       "    <tr>\n",
       "      <th>4</th>\n",
       "      <td>2010-08-02 13:00:00</td>\n",
       "      <td>20.68</td>\n",
       "      <td>20.68</td>\n",
       "    </tr>\n",
       "  </tbody>\n",
       "</table>\n",
       "</div>"
      ],
      "text/plain": [
       "                 Time  First   Last\n",
       "0 2010-08-02 09:00:00  20.40  20.74\n",
       "1 2010-08-02 10:00:00  20.74  20.56\n",
       "2 2010-08-02 11:00:00  20.59  20.65\n",
       "3 2010-08-02 12:00:00  20.63  20.67\n",
       "4 2010-08-02 13:00:00  20.68  20.68"
      ]
     },
     "execution_count": 5,
     "metadata": {},
     "output_type": "execute_result"
    }
   ],
   "source": [
    "dataframe.head()"
   ]
  },
  {
   "cell_type": "markdown",
   "metadata": {},
   "source": [
    "### Take Average value of opening and closing stock for smoothness  "
   ]
  },
  {
   "cell_type": "code",
   "execution_count": 6,
   "metadata": {},
   "outputs": [],
   "source": [
    "dataset = (0.5*(dataframe['First'] + dataframe['Last'])).values"
   ]
  },
  {
   "cell_type": "code",
   "execution_count": 7,
   "metadata": {},
   "outputs": [
    {
     "name": "stdout",
     "output_type": "stream",
     "text": [
      "[ 20.57   20.65   20.62  ... 203.68  204.835 205.4  ]\n"
     ]
    }
   ],
   "source": [
    "print(dataset)"
   ]
  },
  {
   "cell_type": "markdown",
   "metadata": {},
   "source": [
    "### Scaling the dataset "
   ]
  },
  {
   "cell_type": "code",
   "execution_count": 8,
   "metadata": {},
   "outputs": [],
   "source": [
    "scaler = MinMaxScaler(feature_range=(0, 1))\n",
    "dataset = scaler.fit_transform(dataset.reshape(-1, 1)) "
   ]
  },
  {
   "cell_type": "code",
   "execution_count": 9,
   "metadata": {},
   "outputs": [
    {
     "name": "stdout",
     "output_type": "stream",
     "text": [
      "[[0.01145074]\n",
      " [0.01174768]\n",
      " [0.01163632]\n",
      " ...\n",
      " [0.69110851]\n",
      " [0.69539558]\n",
      " [0.69749272]]\n"
     ]
    }
   ],
   "source": [
    "print(dataset)"
   ]
  },
  {
   "cell_type": "markdown",
   "metadata": {},
   "source": [
    "### Time delay function create time sequence of given delay"
   ]
  },
  {
   "cell_type": "code",
   "execution_count": 10,
   "metadata": {},
   "outputs": [],
   "source": [
    "def timeDelay(data, delay):\n",
    "    X_data, y_data = [], []\n",
    "    #naive version, vectorized version can be implemented,\n",
    "    #but may run out of memory,\n",
    "    for i in range(delay, len(data)):\n",
    "        X_data.append(data[i - (delay):i].tolist())\n",
    "    X_data = np.array(X_data)\n",
    "    #print(X_data)\n",
    "    y_data = data[delay:]\n",
    "    return np.reshape(X_data, (X_data.shape[0], X_data.shape[1], 1)), np.reshape(y_data, (len(y_data),))"
   ]
  },
  {
   "cell_type": "markdown",
   "metadata": {},
   "source": [
    "### Creating LSTM model"
   ]
  },
  {
   "cell_type": "code",
   "execution_count": 11,
   "metadata": {},
   "outputs": [],
   "source": [
    "def model():\n",
    "    model = Sequential()\n",
    "    model.add(LSTM(4,input_shape=(5, 1), dropout=0.2))\n",
    "    model.add(Dense(1))\n",
    "    start = time.time()\n",
    "    model.compile(loss=\"mse\", optimizer=\"rmsprop\")\n",
    "    print (\"Compilation Time : \", time.time() - start)\n",
    "    return model"
   ]
  },
  {
   "cell_type": "markdown",
   "metadata": {},
   "source": [
    "### Define parameters"
   ]
  },
  {
   "cell_type": "code",
   "execution_count": 12,
   "metadata": {},
   "outputs": [],
   "source": [
    "ratio = 0.8 # Training test ratio\n",
    "d = 5 # Delay\n",
    "X, y = timeDelay(dataset, d)\n",
    "n = int(ratio * len(X))"
   ]
  },
  {
   "cell_type": "code",
   "execution_count": 13,
   "metadata": {},
   "outputs": [],
   "source": [
    "X_train, y_train = X[:n], y[:n]\n",
    "X_test, y_test = X[n:], y[n:]"
   ]
  },
  {
   "cell_type": "code",
   "execution_count": 14,
   "metadata": {},
   "outputs": [
    {
     "name": "stdout",
     "output_type": "stream",
     "text": [
      "Compilation Time :  0.017497777938842773\n"
     ]
    }
   ],
   "source": [
    "model = model()"
   ]
  },
  {
   "cell_type": "code",
   "execution_count": 15,
   "metadata": {},
   "outputs": [
    {
     "name": "stdout",
     "output_type": "stream",
     "text": [
      "_________________________________________________________________\n",
      "Layer (type)                 Output Shape              Param #   \n",
      "=================================================================\n",
      "lstm_1 (LSTM)                (None, 4)                 96        \n",
      "_________________________________________________________________\n",
      "dense_1 (Dense)              (None, 1)                 5         \n",
      "=================================================================\n",
      "Total params: 101\n",
      "Trainable params: 101\n",
      "Non-trainable params: 0\n",
      "_________________________________________________________________\n"
     ]
    }
   ],
   "source": [
    "model.summary()"
   ]
  },
  {
   "cell_type": "code",
   "execution_count": 16,
   "metadata": {},
   "outputs": [
    {
     "name": "stdout",
     "output_type": "stream",
     "text": [
      "Epoch 1/30\n",
      " - 2s - loss: 0.0696\n",
      "Epoch 2/30\n",
      " - 1s - loss: 0.0165\n",
      "Epoch 3/30\n",
      " - 2s - loss: 0.0099\n",
      "Epoch 4/30\n",
      " - 1s - loss: 0.0086\n",
      "Epoch 5/30\n",
      " - 1s - loss: 0.0075\n",
      "Epoch 6/30\n",
      " - 1s - loss: 0.0068\n",
      "Epoch 7/30\n",
      " - 1s - loss: 0.0065\n",
      "Epoch 8/30\n",
      " - 1s - loss: 0.0062\n",
      "Epoch 9/30\n",
      " - 1s - loss: 0.0063\n",
      "Epoch 10/30\n",
      " - 1s - loss: 0.0054\n",
      "Epoch 11/30\n",
      " - 1s - loss: 0.0056\n",
      "Epoch 12/30\n",
      " - 1s - loss: 0.0053\n",
      "Epoch 13/30\n",
      " - 2s - loss: 0.0050\n",
      "Epoch 14/30\n",
      " - 2s - loss: 0.0048\n",
      "Epoch 15/30\n",
      " - 1s - loss: 0.0046\n",
      "Epoch 16/30\n",
      " - 1s - loss: 0.0049\n",
      "Epoch 17/30\n",
      " - 1s - loss: 0.0041\n",
      "Epoch 18/30\n",
      " - 2s - loss: 0.0039\n",
      "Epoch 19/30\n",
      " - 2s - loss: 0.0035\n",
      "Epoch 20/30\n",
      " - 2s - loss: 0.0037\n",
      "Epoch 21/30\n",
      " - 2s - loss: 0.0035\n",
      "Epoch 22/30\n",
      " - 2s - loss: 0.0030\n",
      "Epoch 23/30\n",
      " - 2s - loss: 0.0028\n",
      "Epoch 24/30\n",
      " - 2s - loss: 0.0028\n",
      "Epoch 25/30\n",
      " - 2s - loss: 0.0025\n",
      "Epoch 26/30\n",
      " - 2s - loss: 0.0026\n",
      "Epoch 27/30\n",
      " - 2s - loss: 0.0029\n",
      "Epoch 28/30\n",
      " - 2s - loss: 0.0025\n",
      "Epoch 29/30\n",
      " - 2s - loss: 0.0025\n",
      "Epoch 30/30\n",
      " - 2s - loss: 0.0027\n"
     ]
    },
    {
     "data": {
      "text/plain": [
       "<keras.callbacks.History at 0x1309238d0>"
      ]
     },
     "execution_count": 16,
     "metadata": {},
     "output_type": "execute_result"
    }
   ],
   "source": [
    "model.fit(X_train, y_train, epochs=30, batch_size=32, verbose=2)"
   ]
  },
  {
   "cell_type": "code",
   "execution_count": 17,
   "metadata": {},
   "outputs": [
    {
     "name": "stdout",
     "output_type": "stream",
     "text": [
      "baseline test score = 24.17 RMSE\n",
      "train score = 37.03 RMSE\n",
      "test score = 50.35 RMSE\n"
     ]
    }
   ],
   "source": [
    "baseline_testScore = scaler.inverse_transform(np.array([[mean_squared_error(y_test[10:], y_test[:-10])**.5]]))\n",
    "trainScore = scaler.inverse_transform(np.array([[model.evaluate(X_train, y_train, verbose=0)**.5]]))\n",
    "testScore = scaler.inverse_transform(np.array([[model.evaluate(X_test, y_test, verbose=0)**.5]]))\n",
    "\n",
    "print('baseline test score = %.2f RMSE' % baseline_testScore)\n",
    "print('train score = %.2f RMSE' % trainScore)\n",
    "print('test score = %.2f RMSE' % testScore)"
   ]
  },
  {
   "cell_type": "code",
   "execution_count": 18,
   "metadata": {},
   "outputs": [],
   "source": [
    "# generate predictions\n",
    "y_train_pred = model.predict(X_train)\n",
    "y_test_pred = model.predict(X_test)"
   ]
  },
  {
   "cell_type": "code",
   "execution_count": 19,
   "metadata": {},
   "outputs": [],
   "source": [
    "y = np.append(y_train, y_test)"
   ]
  },
  {
   "cell_type": "code",
   "execution_count": 20,
   "metadata": {},
   "outputs": [
    {
     "data": {
      "text/plain": [
       "[<matplotlib.lines.Line2D at 0x130e892e8>]"
      ]
     },
     "execution_count": 20,
     "metadata": {},
     "output_type": "execute_result"
    },
    {
     "data": {
      "image/png": "[encoded data removed]",
      "text/plain": [
       "<Figure size 936x432 with 1 Axes>"
      ]
     },
     "metadata": {},
     "output_type": "display_data"
    }
   ],
   "source": [
    "nn = 1000\n",
    "plt.figure(figsize=(13, 6))\n",
    "plt.plot(dataframe['Time'][3:][-nn:], np.append(y_train, y_test)[-nn:], 'o', ms=5,markeredgecolor='k')\n",
    "#plt.plot(dataframe['Time'][3:][:n], y_train_pred, 'r')\n",
    "plt.plot(dataframe['Time'][3:][n:][-nn:], y_test_pred[-nn:], 'o', ms=5, color='green',markeredgecolor='k')"
   ]
  },
  {
   "cell_type": "code",
   "execution_count": null,
   "metadata": {},
   "outputs": [],
   "source": []
  }
 ],
 "metadata": {
  "kernelspec": {
   "display_name": "Python 3",
   "language": "python",
   "name": "python3"
  },
  "language_info": {
   "codemirror_mode": {
    "name": "ipython",
    "version": 3
   },
   "file_extension": ".py",
   "mimetype": "text/x-python",
   "name": "python",
   "nbconvert_exporter": "python",
   "pygments_lexer": "ipython3",
   "version": "3.6.5"
  }
 },
 "nbformat": 4,
 "nbformat_minor": 1
}
